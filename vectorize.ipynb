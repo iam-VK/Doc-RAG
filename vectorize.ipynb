{
 "cells": [
  {
   "cell_type": "code",
   "execution_count": 18,
   "metadata": {},
   "outputs": [],
   "source": [
    "import os \n",
    "from langchain_community.document_loaders import PyPDFLoader, TextLoader, Docx2txtLoader, CSVLoader\n",
    "from langchain_text_splitters import RecursiveCharacterTextSplitter\n",
    "from langchain_ollama import OllamaEmbeddings\n",
    "from langchain_community.vectorstores import FAISS\n",
    "from config import CHUNK_SIZE, CHUNK_OVERLAP, MODEL"
   ]
  },
  {
   "cell_type": "code",
   "execution_count": 19,
   "metadata": {},
   "outputs": [],
   "source": [
    "# Maps extensions to doc loaders\n",
    "ext2loader = {\n",
    "    \".csv\": (CSVLoader, {}),\n",
    "    \".docx\": (Docx2txtLoader, {}),\n",
    "    \".pdf\": (PyPDFLoader, {}),\n",
    "    \".txt\": (TextLoader, {\"encoding\": \"utf8\"}),\n",
    "}"
   ]
  },
  {
   "cell_type": "markdown",
   "metadata": {},
   "source": [
    "Load document"
   ]
  },
  {
   "cell_type": "code",
   "execution_count": 20,
   "metadata": {},
   "outputs": [],
   "source": [
    "def load_doc(file_path,print_report=False):\n",
    "    file_extension = os.path.splitext(file_path)[1]\n",
    "\n",
    "    if file_extension in ext2loader:\n",
    "            \n",
    "        loader_type, loader_args = ext2loader[file_extension]\n",
    "        loader = loader_type(file_path, **loader_args)\n",
    "        load = loader.load()\n",
    "\n",
    "        # if print_report:\n",
    "            # print(f\"Number of pages: {len(load)}\")\n",
    "            # print(f\"Length of a page: {len(load[1].page_content)}\")\n",
    "            # print(\"Content of a page:\", load[1].page_content)\n",
    "        \n",
    "        return load\n",
    "\n",
    "    raise ValueError(f\" '{file_extension}' file type not supported\")"
   ]
  },
  {
   "cell_type": "markdown",
   "metadata": {},
   "source": [
    "Splitter"
   ]
  },
  {
   "cell_type": "code",
   "execution_count": 21,
   "metadata": {},
   "outputs": [],
   "source": [
    "def splitter(documents,print_report=False):\n",
    "    splitter = RecursiveCharacterTextSplitter(chunk_size=CHUNK_SIZE, chunk_overlap=CHUNK_OVERLAP)\n",
    "\n",
    "    chunks = splitter.split_documents(documents)\n",
    "\n",
    "    if print_report:\n",
    "        print(f\"Number of chunks: {len(chunks)}\")\n",
    "        print(f\"Length of a chunk: {len(chunks[1].page_content)}\")\n",
    "        print(\"Content of a chunk:\", chunks[1].page_content)\n",
    "\n",
    "    return chunks"
   ]
  },
  {
   "cell_type": "markdown",
   "metadata": {},
   "source": [
    "Convert to Word Embedding and Insert into Vector DB"
   ]
  },
  {
   "cell_type": "code",
   "execution_count": 22,
   "metadata": {},
   "outputs": [],
   "source": [
    "def word_embeddings(chunks):\n",
    "    embeddings = OllamaEmbeddings(model=MODEL)\n",
    "    vectorstore = FAISS.from_documents(chunks, embeddings)\n",
    "\n",
    "    vectorstore.save_local(\"faiss_index\")\n",
    "    \n",
    "    return vectorstore "
   ]
  },
  {
   "cell_type": "markdown",
   "metadata": {},
   "source": [
    "Retriever"
   ]
  },
  {
   "cell_type": "code",
   "execution_count": 23,
   "metadata": {},
   "outputs": [],
   "source": [
    "def retrieve(query,vectorstore):\n",
    "    retriever = vectorstore.as_retriever()\n",
    "    return retriever.invoke(query)"
   ]
  },
  {
   "cell_type": "code",
   "execution_count": 24,
   "metadata": {},
   "outputs": [
    {
     "name": "stdout",
     "output_type": "stream",
     "text": [
      "Number of chunks: 80\n",
      "Length of a chunk: 145\n",
      "Content of a chunk: The story begins when King Robert visits the northern castle Winterfell to ask Ned Stark to be his right-hand assistant, or Hand of the King. The\n"
     ]
    }
   ],
   "source": [
    "document = load_doc(\"got.txt\", print_report=True)\n",
    "chunks = splitter(document, print_report=True)\n",
    "vectorstore = word_embeddings(chunks)"
   ]
  },
  {
   "cell_type": "code",
   "execution_count": 25,
   "metadata": {},
   "outputs": [
    {
     "data": {
      "text/plain": [
       "[Document(metadata={'source': 'got.txt'}, page_content='help. Daenerys receives three dragon eggs as a wedding gift and becomes immediately fascinated by them.'),\n",
       " Document(metadata={'source': 'got.txt'}, page_content='Everyone thinks Bran simply fell while climbing around the castle.'),\n",
       " Document(metadata={'source': 'got.txt'}, page_content='He knows it has to do with something the Hand learned about King Robert’s children. Through a spy, Robert learns that Daenerys Targaryen is pregnant.'),\n",
       " Document(metadata={'source': 'got.txt'}, page_content='she is holding Sansa for her own protection). Tywin Lannister, father to Tyrion, Cersei, and Jaime, wages war with Catelyn and her son, Robb Stark.')]"
      ]
     },
     "execution_count": 25,
     "metadata": {},
     "output_type": "execute_result"
    }
   ],
   "source": [
    "retrieve(query=\"where did the eggs come from?\",vectorstore=vectorstore)"
   ]
  },
  {
   "cell_type": "code",
   "execution_count": 26,
   "metadata": {},
   "outputs": [
    {
     "data": {
      "text/plain": [
       "[]"
      ]
     },
     "execution_count": 26,
     "metadata": {},
     "output_type": "execute_result"
    }
   ],
   "source": [
    "vectorstore.similarity_search(query=\"good network\", k=2 ,filter={\"source\":\"Networks_notes.pdf\"})"
   ]
  },
  {
   "cell_type": "markdown",
   "metadata": {},
   "source": [
    "## Load the saved Store and try to run the retriever\n",
    "resource: https://python.langchain.com/docs/integrations/vectorstores/faiss/#saving-and-loading"
   ]
  },
  {
   "cell_type": "code",
   "execution_count": 27,
   "metadata": {},
   "outputs": [
    {
     "data": {
      "text/plain": [
       "[Document(metadata={'source': 'got.txt'}, page_content='He knows it has to do with something the Hand learned about King Robert’s children. Through a spy, Robert learns that Daenerys Targaryen is pregnant.'),\n",
       " Document(metadata={'source': 'got.txt'}, page_content='it as belonging to Tyrion Lannister. Ned tells Catelyn he will try to determine who killed the former Hand, Jon Arryn, and who tried to kill Bran.'),\n",
       " Document(metadata={'source': 'got.txt'}, page_content='she is holding Sansa for her own protection). Tywin Lannister, father to Tyrion, Cersei, and Jaime, wages war with Catelyn and her son, Robb Stark.'),\n",
       " Document(metadata={'source': 'got.txt'}, page_content='Mormont and the Dothrakis find her with three newborn dragons at her breast.')]"
      ]
     },
     "execution_count": 27,
     "metadata": {},
     "output_type": "execute_result"
    }
   ],
   "source": [
    "embeddings = OllamaEmbeddings(model=MODEL)\n",
    "new_vector_store = FAISS.load_local(\n",
    "    \"faiss_index\", embeddings, allow_dangerous_deserialization=True\n",
    ")\n",
    "retrieve(query=\"Principles of Networking\",\n",
    "         vectorstore=new_vector_store\n",
    ")"
   ]
  },
  {
   "cell_type": "code",
   "execution_count": 28,
   "metadata": {},
   "outputs": [
    {
     "data": {
      "text/plain": [
       "[]"
      ]
     },
     "execution_count": 28,
     "metadata": {},
     "output_type": "execute_result"
    }
   ],
   "source": [
    "new_vector_store.similarity_search(query=\"good network\", k=2 ,filter={\"source\":\"Networks_notes.pdf\"})"
   ]
  }
 ],
 "metadata": {
  "kernelspec": {
   "display_name": "venv",
   "language": "python",
   "name": "python3"
  },
  "language_info": {
   "codemirror_mode": {
    "name": "ipython",
    "version": 3
   },
   "file_extension": ".py",
   "mimetype": "text/x-python",
   "name": "python",
   "nbconvert_exporter": "python",
   "pygments_lexer": "ipython3",
   "version": "3.12.1"
  }
 },
 "nbformat": 4,
 "nbformat_minor": 2
}
